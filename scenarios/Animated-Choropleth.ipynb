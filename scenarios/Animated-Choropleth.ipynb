{
 "cells": [
  {
   "cell_type": "markdown",
   "metadata": {},
   "source": [
    "# **Animated Choropleth**\n",
    "\n",
    "This notebook demonstrates an animated choropleth where each frame represents a year in a time series. The notebook loads a polygon GeoJSON dataset and produces a choropleth visualisation.\n",
    "\n",
    "The key parameters need to be edited in the Parameters section below, in particular for selecting the data of interest. "
   ]
  },
  {
   "cell_type": "code",
   "execution_count": 90,
   "metadata": {},
   "outputs": [],
   "source": [
    "#  Load the required libraries\n",
    "\n",
    "library(sf)\n",
    "library(ggplot2)\n",
    "library(classInt)\n",
    "library(plotly)\n",
    "\n",
    "#library(gganimate)\n",
    "#library(transformr)"
   ]
  },
  {
   "cell_type": "markdown",
   "metadata": {},
   "source": [
    "##  Parameters\n",
    "\n",
    "Edit the key parameters here; the dataset, the varaible of interest and the number of categories for the variable to be classified into. "
   ]
  },
  {
   "cell_type": "code",
   "execution_count": 91,
   "metadata": {},
   "outputs": [],
   "source": [
    "#  Insert the dataset name and variable of interest\n",
    "\n",
    "## Dataset\n",
    "dataset1.param <- \"ABS_Data-by-Region_Education-Employment_SA2_2014.geojson\"\n",
    "dataset2.param <- \"ABS_Data-by-Region_Education-Employment_SA2_2015.geojson\"\n",
    "dataset3.param <- \"ABS_Data-by-Region_Education-Employment_SA2_2016.geojson\"\n",
    "dataset4.param <- \"ABS_Data-by-Region_Education-Employment_SA2_2017.geojson\"\n",
    "\n",
    "\n",
    "## Variable of Interest\n",
    "variable.param <- \"jobs_australia_year_ended_30_june_number_employee_jobs_total\"\n",
    "\n",
    "## Number of Categories\n",
    "intervals.param <- 6"
   ]
  },
  {
   "cell_type": "markdown",
   "metadata": {},
   "source": [
    "## Load Dataset"
   ]
  },
  {
   "cell_type": "code",
   "execution_count": 92,
   "metadata": {},
   "outputs": [
    {
     "data": {
      "text/html": [
       "'/Users/greenwood/Documents/workspace/juno-tools'"
      ],
      "text/latex": [
       "'/Users/greenwood/Documents/workspace/juno-tools'"
      ],
      "text/markdown": [
       "'/Users/greenwood/Documents/workspace/juno-tools'"
      ],
      "text/plain": [
       "[1] \"/Users/greenwood/Documents/workspace/juno-tools\""
      ]
     },
     "metadata": {},
     "output_type": "display_data"
    },
    {
     "data": {
      "text/html": [
       "'/Users/greenwood/Documents/workspace/juno-tools'"
      ],
      "text/latex": [
       "'/Users/greenwood/Documents/workspace/juno-tools'"
      ],
      "text/markdown": [
       "'/Users/greenwood/Documents/workspace/juno-tools'"
      ],
      "text/plain": [
       "[1] \"/Users/greenwood/Documents/workspace/juno-tools\""
      ]
     },
     "metadata": {},
     "output_type": "display_data"
    },
    {
     "name": "stdout",
     "output_type": "stream",
     "text": [
      "Reading layer `ABS_Data-by-Region_Education-Employment_SA2_2014' from data source `/Users/greenwood/Documents/workspace/juno-tools/data/animated-choropleth/ABS_Data-by-Region_Education-Employment_SA2_2014.geojson' using driver `GeoJSON'\n",
      "Simple feature collection with 306 features and 7 fields\n",
      "geometry type:  MULTIPOLYGON\n",
      "dimension:      XY\n",
      "bbox:           xmin: 144.3336 ymin: -38.50299 xmax: 145.8784 ymax: -37.1751\n",
      "CRS:            4283\n",
      "Reading layer `ABS_Data-by-Region_Education-Employment_SA2_2015' from data source `/Users/greenwood/Documents/workspace/juno-tools/data/animated-choropleth/ABS_Data-by-Region_Education-Employment_SA2_2015.geojson' using driver `GeoJSON'\n",
      "Simple feature collection with 307 features and 7 fields\n",
      "geometry type:  MULTIPOLYGON\n",
      "dimension:      XY\n",
      "bbox:           xmin: 144.3336 ymin: -38.50299 xmax: 145.8784 ymax: -37.1751\n",
      "CRS:            4283\n",
      "Reading layer `ABS_Data-by-Region_Education-Employment_SA2_2016' from data source `/Users/greenwood/Documents/workspace/juno-tools/data/animated-choropleth/ABS_Data-by-Region_Education-Employment_SA2_2016.geojson' using driver `GeoJSON'\n",
      "Simple feature collection with 307 features and 7 fields\n",
      "geometry type:  MULTIPOLYGON\n",
      "dimension:      XY\n",
      "bbox:           xmin: 144.3336 ymin: -38.50299 xmax: 145.8784 ymax: -37.1751\n",
      "CRS:            4283\n",
      "Reading layer `ABS_Data-by-Region_Education-Employment_SA2_2017' from data source `/Users/greenwood/Documents/workspace/juno-tools/data/animated-choropleth/ABS_Data-by-Region_Education-Employment_SA2_2017.geojson' using driver `GeoJSON'\n",
      "Simple feature collection with 309 features and 7 fields\n",
      "geometry type:  MULTIPOLYGON\n",
      "dimension:      XY\n",
      "bbox:           xmin: 144.3336 ymin: -38.50299 xmax: 145.8784 ymax: -37.1751\n",
      "CRS:            4283\n"
     ]
    }
   ],
   "source": [
    "#  The data are loaded here and converted to an sf dataframe.\n",
    "\n",
    "getwd()\n",
    "setwd(\"/Users/greenwood/Documents/workspace/juno-tools\")                                                    # Set the working directory\n",
    "getwd()\n",
    "\n",
    "dataset1.sf <-  st_read(paste(\"data/animated-choropleth/\", dataset1.param, sep = \"\"))                # Load the GeoJSON dataset\n",
    "dataset2.sf <-  st_read(paste(\"data/animated-choropleth/\", dataset2.param, sep = \"\"))                # Load the GeoJSON dataset\n",
    "dataset3.sf <-  st_read(paste(\"data/animated-choropleth/\", dataset3.param, sep = \"\"))                # Load the GeoJSON dataset\n",
    "dataset4.sf <-  st_read(paste(\"data/animated-choropleth/\", dataset4.param, sep = \"\"))                # Load the GeoJSON dataset\n",
    "\n",
    "dataset.sf <- rbind(dataset1.sf, dataset2.sf, dataset3.sf, dataset4.sf)"
   ]
  },
  {
   "cell_type": "markdown",
   "metadata": {},
   "source": [
    "## Prepare Data\n",
    "\n",
    "This cell creates a new variable in the dataset that is a categorisation of the variable of interest into a series of intervals."
   ]
  },
  {
   "cell_type": "code",
   "execution_count": 93,
   "metadata": {},
   "outputs": [
    {
     "name": "stderr",
     "output_type": "stream",
     "text": [
      "Warning message in classIntervals(dataset.sf[[variable.param]], intervals.param, :\n",
      "“var has missing values, omitted in finding classes”\n"
     ]
    },
    {
     "name": "stdout",
     "output_type": "stream",
     "text": [
      "style: quantile\n",
      "       [5,6005.667) [6005.667,7898.667)     [7898.667,9956)        [9956,12131) \n",
      "                205                 204                 204                 205 \n",
      "      [12131,14697)       [14697,41309] \n",
      "                204                 205 \n"
     ]
    }
   ],
   "source": [
    "# Generate a list of intervals\n",
    "cint <- classIntervals(dataset.sf[[variable.param]], intervals.param,\n",
    "                       style = \"quantile\")                                     # Set the type of classifcation, e.g. \"equal\" for equal intervals\n",
    "\n",
    "print(cint)\n",
    "                                                                        \n",
    "# Create the categorised variable according to the intervals generated above \n",
    "dataset.sf$choropleth_cat <- cut(dataset.sf[[variable.param]], \n",
    "                                 breaks = data.frame(cint[2])[,1],\n",
    "                                 include.lowest = TRUE,\n",
    "                                 dig.lab = 7)                                  # dig.lab sets the number of digits in the label before scientific notation is used"
   ]
  },
  {
   "cell_type": "markdown",
   "metadata": {},
   "source": [
    "## Plot Visualisation\n",
    "\n",
    "This cell contains the code for plotting the choropleth using `ggplot()`. See https://ggplot2.tidyverse.org/ for further information."
   ]
  },
  {
   "cell_type": "code",
   "execution_count": 94,
   "metadata": {},
   "outputs": [],
   "source": [
    "p <- ggplot(data = dataset.sf, aes(frame = yr))+\n",
    "  geom_sf(aes(fill=dataset.sf$choropleth_cat),colour='grey', size = 0.2, data=dataset.sf)+\n",
    "  scale_fill_viridis_d(                                                        # Set the colour scheme here. See https://ggplot2.tidyverse.org/reference/scale_viridis.html\n",
    "    name='Legend',                                        # Set the title of the legend\n",
    "    guide=guide_legend(\n",
    "      direction='vertical',                                 # Set the orientation of the legend\n",
    "      title.position='top',                                 # Set the postion of the legend title\n",
    "      title.hjust = .5,                                     # Adjust horizontal postion of the legend title\n",
    "      label.hjust = .5,                                     # Adjust horizontal postion of the legend labels\n",
    "      label.position = 'right',                             # Position of labels Change to e.g. 'bottom'\n",
    "      keywidth = 1,                                         # Legend width\n",
    "      keyheight = 1                                         # Legend height\n",
    "    ))+\n",
    "  labs(title=\"Choropleth Map\",                                                 # Map title\n",
    "       subtitle= paste('Map of Variable', variable.param),                     # Map subtitle\n",
    "       caption=c('Source: AURIN aurin.org.au'))+                               # Caption\n",
    "  theme_void()+\n",
    "  theme(title=element_text(face='bold'),\n",
    "        legend.position = 'right')                                             # Position of legend. Change to e.g. 'bottom'\n",
    "\n",
    "\n",
    "#m <- list(\n",
    "#  l = 50,\n",
    "#  r = 50,\n",
    "#  b = 100,\n",
    "#  t = 1000,\n",
    "#  pad = 4\n",
    "#)\n",
    "#fig <- fig %>% layout(autosize = F, width = 500, height = 500, margin = m)"
   ]
  },
  {
   "cell_type": "code",
   "execution_count": null,
   "metadata": {
    "scrolled": true
   },
   "outputs": [],
   "source": [
    "fig <- ggplotly(p)\n",
    "fig"
   ]
  },
  {
   "cell_type": "code",
   "execution_count": 96,
   "metadata": {},
   "outputs": [],
   "source": [
    "#pa <- p + transition_time(yr) +\n",
    "#  labs(title = \"Year: {frame_time}\")"
   ]
  },
  {
   "cell_type": "code",
   "execution_count": 97,
   "metadata": {},
   "outputs": [],
   "source": [
    "#library(gifski)\n",
    "#ani <- pa + exit_shrink()\n",
    "#animate(ani, duration = 5, fps = 20, width = 200, height = 200, renderer = gifski_renderer())\n",
    "#anim_save(\"output.gif\",animation = ani)"
   ]
  },
  {
   "cell_type": "markdown",
   "metadata": {},
   "source": [
    "## Save Result"
   ]
  },
  {
   "cell_type": "code",
   "execution_count": 98,
   "metadata": {},
   "outputs": [
    {
     "name": "stderr",
     "output_type": "stream",
     "text": [
      "Warning message in p$x$data[firstFrame] <- p$x$frames[[1]]$data:\n",
      "“number of items to replace is not a multiple of replacement length”\n"
     ]
    }
   ],
   "source": [
    "htmlwidgets::saveWidget(fig, \"animated-choropleth.html\")"
   ]
  },
  {
   "cell_type": "code",
   "execution_count": null,
   "metadata": {},
   "outputs": [],
   "source": []
  },
  {
   "cell_type": "code",
   "execution_count": null,
   "metadata": {},
   "outputs": [],
   "source": []
  },
  {
   "cell_type": "code",
   "execution_count": null,
   "metadata": {},
   "outputs": [],
   "source": []
  }
 ],
 "metadata": {
  "kernelspec": {
   "display_name": "R",
   "language": "R",
   "name": "ir"
  },
  "language_info": {
   "codemirror_mode": "r",
   "file_extension": ".r",
   "mimetype": "text/x-r-source",
   "name": "R",
   "pygments_lexer": "r",
   "version": "3.6.3"
  }
 },
 "nbformat": 4,
 "nbformat_minor": 4
}
